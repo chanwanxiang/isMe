{
 "cells": [
  {
   "cell_type": "code",
   "execution_count": 12,
   "source": [
    "import threading\r\n",
    "\r\n",
    "num = 0\r\n",
    "\r\n",
    "def addNum():\r\n",
    "    global num\r\n",
    "    for i in range(1000000):\r\n",
    "        num += 1\r\n",
    "\r\n",
    "def decNum():\r\n",
    "    global num\r\n",
    "    for i in range(1000000):\r\n",
    "        num -= 1\r\n",
    "\r\n",
    "A = threading.Thread(target=addNum)\r\n",
    "B = threading.Thread(target=decNum)\r\n",
    "\r\n",
    "A.start()\r\n",
    "B.start()\r\n",
    "\r\n",
    "A.join()\r\n",
    "B.join()\r\n",
    "\r\n",
    "print(num)"
   ],
   "outputs": [
    {
     "output_type": "stream",
     "name": "stdout",
     "text": [
      "0\n"
     ]
    }
   ],
   "metadata": {}
  }
 ],
 "metadata": {
  "orig_nbformat": 4,
  "language_info": {
   "name": "python",
   "version": "3.7.3",
   "mimetype": "text/x-python",
   "codemirror_mode": {
    "name": "ipython",
    "version": 3
   },
   "pygments_lexer": "ipython3",
   "nbconvert_exporter": "python",
   "file_extension": ".py"
  },
  "kernelspec": {
   "name": "python3",
   "display_name": "Python 3.7.3 64-bit"
  },
  "interpreter": {
   "hash": "4eaf1be304415beee96765ae99c3f893cc8312c7f1196698e6029668e9aeb3e5"
  }
 },
 "nbformat": 4,
 "nbformat_minor": 2
}